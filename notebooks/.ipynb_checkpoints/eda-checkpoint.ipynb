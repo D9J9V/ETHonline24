{
 "cells": [
  {
   "cell_type": "markdown",
   "metadata": {},
   "source": [
    "# Imports"
   ]
  },
  {
   "cell_type": "code",
   "execution_count": 1,
   "metadata": {},
   "outputs": [
    {
     "name": "stderr",
     "output_type": "stream",
     "text": [
      "e:\\Projects\\steth_optimizer\\steth_optimizer\\Lib\\site-packages\\threadpoolctl.py:1214: RuntimeWarning: \n",
      "Found Intel OpenMP ('libiomp') and LLVM OpenMP ('libomp') loaded at\n",
      "the same time. Both libraries are known to be incompatible and this\n",
      "can cause random crashes or deadlocks on Linux when loaded in the\n",
      "same Python program.\n",
      "Using threadpoolctl may cause crashes or deadlocks. For more\n",
      "information and possible workarounds, please see\n",
      "    https://github.com/joblib/threadpoolctl/blob/master/multiple_openmp.md\n",
      "\n",
      "  warnings.warn(msg, RuntimeWarning)\n"
     ]
    }
   ],
   "source": [
    "import gymnasium as gym\n",
    "from gymnasium import spaces\n",
    "from stable_baselines3 import PPO\n",
    "from scipy.optimize import minimize, Bounds, LinearConstraint\n",
    "import plotly.graph_objs as go\n",
    "import pandas as pd\n",
    "import requests\n",
    "import numpy as np\n",
    "import yfinance as yf\n",
    "import matplotlib\n",
    "%matplotlib inline\n",
    "import random\n",
    "import cvxpy as cp\n",
    "import matplotlib.pyplot as plt\n",
    "import datetime as dt\n",
    "from prophet import Prophet\n",
    "from sklearn.metrics import r2_score, mean_absolute_error\n",
    "from stable_baselines3.common.vec_env import DummyVecEnv\n",
    "import torch\n",
    "from flipside import Flipside\n",
    "\n",
    "import os\n",
    "from dotenv import load_dotenv\n",
    "\n",
    "import datetime as dt\n",
    "from datetime import timedelta\n",
    "\n",
    "from sklearn.linear_model import LinearRegression"
   ]
  },
  {
   "cell_type": "code",
   "execution_count": 2,
   "metadata": {},
   "outputs": [],
   "source": [
    "os.chdir('..')"
   ]
  },
  {
   "cell_type": "code",
   "execution_count": 3,
   "metadata": {},
   "outputs": [],
   "source": [
    "from python_scripts.utils import flipside_api_results, set_random_seed, to_time, clean_prices\n",
    "from sql_scripts.queries import prices, volume "
   ]
  },
  {
   "cell_type": "code",
   "execution_count": 4,
   "metadata": {},
   "outputs": [],
   "source": [
    "os.chdir('notebooks')"
   ]
  },
  {
   "cell_type": "markdown",
   "metadata": {},
   "source": [
    "# Environment Variables"
   ]
  },
  {
   "cell_type": "code",
   "execution_count": 5,
   "metadata": {},
   "outputs": [],
   "source": [
    "set_random_seed(20)"
   ]
  },
  {
   "cell_type": "code",
   "execution_count": 6,
   "metadata": {},
   "outputs": [],
   "source": [
    "load_dotenv()\n",
    "flipside_api_key = os.getenv(\"FLIPSIDE_API_KEY\")"
   ]
  },
  {
   "cell_type": "markdown",
   "metadata": {},
   "source": [
    "# Data Collection"
   ]
  },
  {
   "cell_type": "markdown",
   "metadata": {},
   "source": [
    "## BTC Volume"
   ]
  },
  {
   "cell_type": "code",
   "execution_count": 7,
   "metadata": {},
   "outputs": [
    {
     "data": {
      "text/html": [
       "<div>\n",
       "<style scoped>\n",
       "    .dataframe tbody tr th:only-of-type {\n",
       "        vertical-align: middle;\n",
       "    }\n",
       "\n",
       "    .dataframe tbody tr th {\n",
       "        vertical-align: top;\n",
       "    }\n",
       "\n",
       "    .dataframe thead th {\n",
       "        text-align: right;\n",
       "    }\n",
       "</style>\n",
       "<table border=\"1\" class=\"dataframe\">\n",
       "  <thead>\n",
       "    <tr style=\"text-align: right;\">\n",
       "      <th></th>\n",
       "      <th>BTC Volume</th>\n",
       "    </tr>\n",
       "    <tr>\n",
       "      <th>Date</th>\n",
       "      <th></th>\n",
       "    </tr>\n",
       "  </thead>\n",
       "  <tbody>\n",
       "    <tr>\n",
       "      <th>2014-09-17 00:00:00+00:00</th>\n",
       "      <td>21056800</td>\n",
       "    </tr>\n",
       "    <tr>\n",
       "      <th>2014-09-18 00:00:00+00:00</th>\n",
       "      <td>34483200</td>\n",
       "    </tr>\n",
       "    <tr>\n",
       "      <th>2014-09-19 00:00:00+00:00</th>\n",
       "      <td>37919700</td>\n",
       "    </tr>\n",
       "    <tr>\n",
       "      <th>2014-09-20 00:00:00+00:00</th>\n",
       "      <td>36863600</td>\n",
       "    </tr>\n",
       "    <tr>\n",
       "      <th>2014-09-21 00:00:00+00:00</th>\n",
       "      <td>26580100</td>\n",
       "    </tr>\n",
       "    <tr>\n",
       "      <th>...</th>\n",
       "      <td>...</td>\n",
       "    </tr>\n",
       "    <tr>\n",
       "      <th>2024-08-19 00:00:00+00:00</th>\n",
       "      <td>25911207712</td>\n",
       "    </tr>\n",
       "    <tr>\n",
       "      <th>2024-08-20 00:00:00+00:00</th>\n",
       "      <td>31613400008</td>\n",
       "    </tr>\n",
       "    <tr>\n",
       "      <th>2024-08-21 00:00:00+00:00</th>\n",
       "      <td>32731154072</td>\n",
       "    </tr>\n",
       "    <tr>\n",
       "      <th>2024-08-22 00:00:00+00:00</th>\n",
       "      <td>27625734377</td>\n",
       "    </tr>\n",
       "    <tr>\n",
       "      <th>2024-08-23 00:00:00+00:00</th>\n",
       "      <td>41193107456</td>\n",
       "    </tr>\n",
       "  </tbody>\n",
       "</table>\n",
       "<p>3629 rows × 1 columns</p>\n",
       "</div>"
      ],
      "text/plain": [
       "                            BTC Volume\n",
       "Date                                  \n",
       "2014-09-17 00:00:00+00:00     21056800\n",
       "2014-09-18 00:00:00+00:00     34483200\n",
       "2014-09-19 00:00:00+00:00     37919700\n",
       "2014-09-20 00:00:00+00:00     36863600\n",
       "2014-09-21 00:00:00+00:00     26580100\n",
       "...                                ...\n",
       "2024-08-19 00:00:00+00:00  25911207712\n",
       "2024-08-20 00:00:00+00:00  31613400008\n",
       "2024-08-21 00:00:00+00:00  32731154072\n",
       "2024-08-22 00:00:00+00:00  27625734377\n",
       "2024-08-23 00:00:00+00:00  41193107456\n",
       "\n",
       "[3629 rows x 1 columns]"
      ]
     },
     "execution_count": 7,
     "metadata": {},
     "output_type": "execute_result"
    }
   ],
   "source": [
    "btc = yf.Ticker('BTC-USD')\n",
    "btc_df = btc.history(period='max')\n",
    "btc_df = btc_df['Volume'].to_frame('BTC Volume')\n",
    "btc_df"
   ]
  },
  {
   "cell_type": "markdown",
   "metadata": {},
   "source": [
    "## DEX Volume & Asset Prices (Onchain Data)"
   ]
  },
  {
   "cell_type": "code",
   "execution_count": 13,
   "metadata": {},
   "outputs": [],
   "source": [
    "def pull_data(api=False):\n",
    "    prices_path = '../data/prices.csv'\n",
    "    volume_path = '../data/volume.csv'\n",
    "\n",
    "    if api == True:\n",
    "        prices_df = flipside_api_results(prices, flipside_api_key)\n",
    "        prices_df.to_csv(prices_path, index=False)\n",
    "        volume_df = flipside_api_results(prices, flipside_api_key)\n",
    "        volume_df.to_csv(volume_path, index=False)\n",
    "    else:\n",
    "        prices_df = pd.read_csv(prices_path)\n",
    "        volume_df = pd.read_csv(volume_path)\n",
    "\n",
    "    return prices_df, volume_df "
   ]
  },
  {
   "cell_type": "markdown",
   "metadata": {},
   "source": [
    "prices_df = flipside_api_results(prices, flipside_api_key)\n",
    "prices_path = '../data/prices.csv'\n",
    "prices_df.to_csv(prices_path, index=False)"
   ]
  },
  {
   "cell_type": "markdown",
   "metadata": {},
   "source": [
    "volume_df = flipside_api_results(volume, flipside_api_key)\n",
    "volume_path = '../data/volume.csv'\n",
    "volume_df.to_csv(volume_path, index=False)"
   ]
  },
  {
   "cell_type": "code",
   "execution_count": 9,
   "metadata": {},
   "outputs": [],
   "source": [
    "prices_df, volume_df = pull_data(api=True)"
   ]
  },
  {
   "cell_type": "code",
   "execution_count": 11,
   "metadata": {},
   "outputs": [
    {
     "name": "stdout",
     "output_type": "stream",
     "text": [
      "DatetimeIndex(['2018-02-14 01:00:00+00:00', '2018-02-14 02:00:00+00:00',\n",
      "               '2018-02-14 03:00:00+00:00', '2018-02-14 04:00:00+00:00',\n",
      "               '2018-02-14 05:00:00+00:00', '2018-02-14 06:00:00+00:00',\n",
      "               '2018-02-14 07:00:00+00:00', '2018-02-14 08:00:00+00:00',\n",
      "               '2018-02-14 09:00:00+00:00', '2018-02-14 10:00:00+00:00',\n",
      "               ...\n",
      "               '2024-08-23 12:00:00+00:00', '2024-08-23 13:00:00+00:00',\n",
      "               '2024-08-23 14:00:00+00:00', '2024-08-23 15:00:00+00:00',\n",
      "               '2024-08-23 16:00:00+00:00', '2024-08-23 17:00:00+00:00',\n",
      "               '2024-08-23 18:00:00+00:00', '2024-08-23 19:00:00+00:00',\n",
      "               '2024-08-23 20:00:00+00:00', '2024-08-23 21:00:00+00:00'],\n",
      "              dtype='datetime64[ns, UTC]', name='dt', length=57189, freq=None)\n"
     ]
    },
    {
     "data": {
      "text/html": [
       "<div>\n",
       "<style scoped>\n",
       "    .dataframe tbody tr th:only-of-type {\n",
       "        vertical-align: middle;\n",
       "    }\n",
       "\n",
       "    .dataframe tbody tr th {\n",
       "        vertical-align: top;\n",
       "    }\n",
       "\n",
       "    .dataframe thead th {\n",
       "        text-align: right;\n",
       "    }\n",
       "</style>\n",
       "<table border=\"1\" class=\"dataframe\">\n",
       "  <thead>\n",
       "    <tr style=\"text-align: right;\">\n",
       "      <th></th>\n",
       "      <th>BTC Price</th>\n",
       "      <th>ETH Price</th>\n",
       "    </tr>\n",
       "    <tr>\n",
       "      <th>dt</th>\n",
       "      <th></th>\n",
       "      <th></th>\n",
       "    </tr>\n",
       "  </thead>\n",
       "  <tbody>\n",
       "    <tr>\n",
       "      <th>2018-02-14 01:00:00+00:00</th>\n",
       "      <td>NaN</td>\n",
       "      <td>839.535</td>\n",
       "    </tr>\n",
       "    <tr>\n",
       "      <th>2018-02-14 02:00:00+00:00</th>\n",
       "      <td>NaN</td>\n",
       "      <td>839.535</td>\n",
       "    </tr>\n",
       "    <tr>\n",
       "      <th>2018-02-14 03:00:00+00:00</th>\n",
       "      <td>NaN</td>\n",
       "      <td>839.535</td>\n",
       "    </tr>\n",
       "    <tr>\n",
       "      <th>2018-02-14 04:00:00+00:00</th>\n",
       "      <td>NaN</td>\n",
       "      <td>839.535</td>\n",
       "    </tr>\n",
       "    <tr>\n",
       "      <th>2018-02-14 05:00:00+00:00</th>\n",
       "      <td>NaN</td>\n",
       "      <td>839.535</td>\n",
       "    </tr>\n",
       "    <tr>\n",
       "      <th>...</th>\n",
       "      <td>...</td>\n",
       "      <td>...</td>\n",
       "    </tr>\n",
       "    <tr>\n",
       "      <th>2024-08-23 17:00:00+00:00</th>\n",
       "      <td>61413.0</td>\n",
       "      <td>2674.400</td>\n",
       "    </tr>\n",
       "    <tr>\n",
       "      <th>2024-08-23 18:00:00+00:00</th>\n",
       "      <td>61564.0</td>\n",
       "      <td>2675.120</td>\n",
       "    </tr>\n",
       "    <tr>\n",
       "      <th>2024-08-23 19:00:00+00:00</th>\n",
       "      <td>62716.0</td>\n",
       "      <td>2727.840</td>\n",
       "    </tr>\n",
       "    <tr>\n",
       "      <th>2024-08-23 20:00:00+00:00</th>\n",
       "      <td>63270.0</td>\n",
       "      <td>2732.160</td>\n",
       "    </tr>\n",
       "    <tr>\n",
       "      <th>2024-08-23 21:00:00+00:00</th>\n",
       "      <td>63507.0</td>\n",
       "      <td>2747.320</td>\n",
       "    </tr>\n",
       "  </tbody>\n",
       "</table>\n",
       "<p>57189 rows × 2 columns</p>\n",
       "</div>"
      ],
      "text/plain": [
       "                           BTC Price  ETH Price\n",
       "dt                                             \n",
       "2018-02-14 01:00:00+00:00        NaN    839.535\n",
       "2018-02-14 02:00:00+00:00        NaN    839.535\n",
       "2018-02-14 03:00:00+00:00        NaN    839.535\n",
       "2018-02-14 04:00:00+00:00        NaN    839.535\n",
       "2018-02-14 05:00:00+00:00        NaN    839.535\n",
       "...                              ...        ...\n",
       "2024-08-23 17:00:00+00:00    61413.0   2674.400\n",
       "2024-08-23 18:00:00+00:00    61564.0   2675.120\n",
       "2024-08-23 19:00:00+00:00    62716.0   2727.840\n",
       "2024-08-23 20:00:00+00:00    63270.0   2732.160\n",
       "2024-08-23 21:00:00+00:00    63507.0   2747.320\n",
       "\n",
       "[57189 rows x 2 columns]"
      ]
     },
     "execution_count": 11,
     "metadata": {},
     "output_type": "execute_result"
    }
   ],
   "source": [
    "clean_prices_df = clean_prices(prices_df)\n",
    "clean_prices_df = to_time(clean_prices_df)\n",
    "if '__row_index' in clean_prices_df.columns:\n",
    "    clean_prices_df.drop(columns=['__row_index'], inplace=True)\n",
    "clean_prices_df\n",
    "\n",
    "clean_prices_df"
   ]
  },
  {
   "cell_type": "code",
   "execution_count": 12,
   "metadata": {},
   "outputs": [
    {
     "name": "stdout",
     "output_type": "stream",
     "text": [
      "DatetimeIndex(['2024-08-23 20:00:00+00:00', '2024-08-23 19:00:00+00:00',\n",
      "               '2024-08-23 18:00:00+00:00', '2024-08-23 17:00:00+00:00',\n",
      "               '2024-08-23 16:00:00+00:00', '2024-08-23 15:00:00+00:00',\n",
      "               '2024-08-23 14:00:00+00:00', '2024-08-23 13:00:00+00:00',\n",
      "               '2024-08-23 12:00:00+00:00', '2024-08-23 11:00:00+00:00',\n",
      "               ...\n",
      "               '2019-09-27 03:00:00+00:00', '2019-09-27 00:00:00+00:00',\n",
      "               '2019-09-26 22:00:00+00:00', '2019-09-26 21:00:00+00:00',\n",
      "               '2019-09-26 19:00:00+00:00', '2019-09-26 18:00:00+00:00',\n",
      "               '2019-09-26 17:00:00+00:00', '2019-09-26 14:00:00+00:00',\n",
      "               '2019-09-26 13:00:00+00:00', '2019-09-26 10:00:00+00:00'],\n",
      "              dtype='datetime64[ns, UTC]', name='dt', length=42228, freq=None)\n"
     ]
    },
    {
     "data": {
      "text/html": [
       "<div>\n",
       "<style scoped>\n",
       "    .dataframe tbody tr th:only-of-type {\n",
       "        vertical-align: middle;\n",
       "    }\n",
       "\n",
       "    .dataframe tbody tr th {\n",
       "        vertical-align: top;\n",
       "    }\n",
       "\n",
       "    .dataframe thead th {\n",
       "        text-align: right;\n",
       "    }\n",
       "</style>\n",
       "<table border=\"1\" class=\"dataframe\">\n",
       "  <thead>\n",
       "    <tr style=\"text-align: right;\">\n",
       "      <th></th>\n",
       "      <th>DEX Volume</th>\n",
       "    </tr>\n",
       "    <tr>\n",
       "      <th>dt</th>\n",
       "      <th></th>\n",
       "    </tr>\n",
       "  </thead>\n",
       "  <tbody>\n",
       "    <tr>\n",
       "      <th>2024-08-23 20:00:00+00:00</th>\n",
       "      <td>5.588734e+07</td>\n",
       "    </tr>\n",
       "    <tr>\n",
       "      <th>2024-08-23 19:00:00+00:00</th>\n",
       "      <td>2.136648e+08</td>\n",
       "    </tr>\n",
       "    <tr>\n",
       "      <th>2024-08-23 18:00:00+00:00</th>\n",
       "      <td>3.260078e+08</td>\n",
       "    </tr>\n",
       "    <tr>\n",
       "      <th>2024-08-23 17:00:00+00:00</th>\n",
       "      <td>2.633585e+08</td>\n",
       "    </tr>\n",
       "    <tr>\n",
       "      <th>2024-08-23 16:00:00+00:00</th>\n",
       "      <td>1.448834e+08</td>\n",
       "    </tr>\n",
       "    <tr>\n",
       "      <th>...</th>\n",
       "      <td>...</td>\n",
       "    </tr>\n",
       "    <tr>\n",
       "      <th>2019-09-26 18:00:00+00:00</th>\n",
       "      <td>1.400500e+03</td>\n",
       "    </tr>\n",
       "    <tr>\n",
       "      <th>2019-09-26 17:00:00+00:00</th>\n",
       "      <td>1.549980e+03</td>\n",
       "    </tr>\n",
       "    <tr>\n",
       "      <th>2019-09-26 14:00:00+00:00</th>\n",
       "      <td>1.137598e+04</td>\n",
       "    </tr>\n",
       "    <tr>\n",
       "      <th>2019-09-26 13:00:00+00:00</th>\n",
       "      <td>2.274700e+02</td>\n",
       "    </tr>\n",
       "    <tr>\n",
       "      <th>2019-09-26 10:00:00+00:00</th>\n",
       "      <td>8.360000e+00</td>\n",
       "    </tr>\n",
       "  </tbody>\n",
       "</table>\n",
       "<p>42228 rows × 1 columns</p>\n",
       "</div>"
      ],
      "text/plain": [
       "                             DEX Volume\n",
       "dt                                     \n",
       "2024-08-23 20:00:00+00:00  5.588734e+07\n",
       "2024-08-23 19:00:00+00:00  2.136648e+08\n",
       "2024-08-23 18:00:00+00:00  3.260078e+08\n",
       "2024-08-23 17:00:00+00:00  2.633585e+08\n",
       "2024-08-23 16:00:00+00:00  1.448834e+08\n",
       "...                                 ...\n",
       "2019-09-26 18:00:00+00:00  1.400500e+03\n",
       "2019-09-26 17:00:00+00:00  1.549980e+03\n",
       "2019-09-26 14:00:00+00:00  1.137598e+04\n",
       "2019-09-26 13:00:00+00:00  2.274700e+02\n",
       "2019-09-26 10:00:00+00:00  8.360000e+00\n",
       "\n",
       "[42228 rows x 1 columns]"
      ]
     },
     "execution_count": 12,
     "metadata": {},
     "output_type": "execute_result"
    }
   ],
   "source": [
    "volume_df = to_time(volume_df)\n",
    "volume_df.rename(columns={\"volume\":\"DEX Volume\"}, inplace=True)\n",
    "if '__row_index' in volume_df.columns:\n",
    "    volume_df.drop(columns=['__row_index'], inplace=True)\n",
    "volume_df"
   ]
  },
  {
   "cell_type": "markdown",
   "metadata": {},
   "source": [
    "# Feature Engineering"
   ]
  }
 ],
 "metadata": {
  "kernelspec": {
   "display_name": "steth_optimizer",
   "language": "python",
   "name": "steth_optimizer"
  },
  "language_info": {
   "codemirror_mode": {
    "name": "ipython",
    "version": 3
   },
   "file_extension": ".py",
   "mimetype": "text/x-python",
   "name": "python",
   "nbconvert_exporter": "python",
   "pygments_lexer": "ipython3",
   "version": "3.11.9"
  }
 },
 "nbformat": 4,
 "nbformat_minor": 2
}
