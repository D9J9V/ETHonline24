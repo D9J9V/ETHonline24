{
 "cells": [
  {
   "cell_type": "code",
   "execution_count": 4,
   "metadata": {},
   "outputs": [],
   "source": [
    "import gymnasium as gym\n",
    "from gymnasium import spaces\n",
    "from stable_baselines3 import PPO\n",
    "from scipy.optimize import minimize, Bounds, LinearConstraint\n",
    "import plotly.graph_objs as go\n",
    "import pandas as pd\n",
    "import requests\n",
    "import numpy as np\n",
    "import yfinance as yf\n",
    "import matplotlib\n",
    "%matplotlib inline\n",
    "import random\n",
    "import cvxpy as cp\n",
    "import matplotlib.pyplot as plt\n",
    "import datetime as dt\n",
    "from prophet import Prophet\n",
    "from sklearn.metrics import r2_score, mean_absolute_error\n",
    "from stable_baselines3.common.vec_env import DummyVecEnv\n",
    "import torch\n",
    "from flipside import Flipside\n",
    "\n",
    "import os\n",
    "from dotenv import load_dotenv\n",
    "\n",
    "import datetime as dt\n",
    "from datetime import timedelta\n",
    "\n",
    "from sklearn.linear_model import LinearRegression"
   ]
  },
  {
   "cell_type": "code",
   "execution_count": 5,
   "metadata": {},
   "outputs": [],
   "source": [
    "os.chdir('..')"
   ]
  },
  {
   "cell_type": "code",
   "execution_count": 6,
   "metadata": {},
   "outputs": [],
   "source": [
    "from python_scripts.utils import flipside_api_results, set_random_seed\n",
    "from sql_scripts.queries import prices "
   ]
  },
  {
   "cell_type": "code",
   "execution_count": 7,
   "metadata": {},
   "outputs": [],
   "source": [
    "os.chdir('notebooks')"
   ]
  },
  {
   "cell_type": "code",
   "execution_count": 8,
   "metadata": {},
   "outputs": [],
   "source": [
    "set_random_seed(20)"
   ]
  },
  {
   "cell_type": "code",
   "execution_count": 9,
   "metadata": {},
   "outputs": [
    {
     "data": {
      "text/plain": [
       "True"
      ]
     },
     "execution_count": 9,
     "metadata": {},
     "output_type": "execute_result"
    }
   ],
   "source": [
    "load_dotenv()"
   ]
  },
  {
   "cell_type": "code",
   "execution_count": 6,
   "metadata": {},
   "outputs": [],
   "source": [
    "def flipside_api_results(query, api_key):\n",
    "  \n",
    "  flipside_api_key = api_key\n",
    "  flipside = Flipside(flipside_api_key, \"https://api-v2.flipsidecrypto.xyz\")\n",
    "\n",
    "  query_result_set = flipside.query(query)\n",
    "  # what page are we starting on?\n",
    "  current_page_number = 1\n",
    "\n",
    "  # How many records do we want to return in the page?\n",
    "  page_size = 1000\n",
    "\n",
    "  # set total pages to 1 higher than the `current_page_number` until\n",
    "  # we receive the total pages from `get_query_results` given the \n",
    "  # provided `page_size` (total_pages is dynamically determined by the API \n",
    "  # based on the `page_size` you provide)\n",
    "\n",
    "  total_pages = 2\n",
    "\n",
    "\n",
    "  # we'll store all the page results in `all_rows`\n",
    "  all_rows = []\n",
    "\n",
    "  while current_page_number <= total_pages:\n",
    "    results = flipside.get_query_results(\n",
    "      query_result_set.query_id,\n",
    "      page_number=current_page_number,\n",
    "      page_size=page_size\n",
    "    )\n",
    "\n",
    "    total_pages = results.page.totalPages\n",
    "    if results.records:\n",
    "        all_rows = all_rows + results.records\n",
    "    \n",
    "    current_page_number += 1\n",
    "\n",
    "  return pd.DataFrame(all_rows)"
   ]
  },
  {
   "cell_type": "code",
   "execution_count": 7,
   "metadata": {},
   "outputs": [
    {
     "ename": "NameError",
     "evalue": "name 'Flipside' is not defined",
     "output_type": "error",
     "traceback": [
      "\u001b[1;31m---------------------------------------------------------------------------\u001b[0m",
      "\u001b[1;31mNameError\u001b[0m                                 Traceback (most recent call last)",
      "Cell \u001b[1;32mIn[7], line 3\u001b[0m\n\u001b[0;32m      1\u001b[0m flipside_api_key \u001b[38;5;241m=\u001b[39m os\u001b[38;5;241m.\u001b[39mgetenv(\u001b[38;5;124m\"\u001b[39m\u001b[38;5;124mFLIPSIDE_API_KEY\u001b[39m\u001b[38;5;124m\"\u001b[39m)\n\u001b[1;32m----> 3\u001b[0m prices_df \u001b[38;5;241m=\u001b[39m \u001b[43mflipside_api_results\u001b[49m\u001b[43m(\u001b[49m\u001b[43mprices\u001b[49m\u001b[43m,\u001b[49m\u001b[43m \u001b[49m\u001b[43mflipside_api_key\u001b[49m\u001b[43m)\u001b[49m\n",
      "Cell \u001b[1;32mIn[6], line 4\u001b[0m, in \u001b[0;36mflipside_api_results\u001b[1;34m(query, api_key)\u001b[0m\n\u001b[0;32m      1\u001b[0m \u001b[38;5;28;01mdef\u001b[39;00m \u001b[38;5;21mflipside_api_results\u001b[39m(query, api_key):\n\u001b[0;32m      3\u001b[0m   flipside_api_key \u001b[38;5;241m=\u001b[39m api_key\n\u001b[1;32m----> 4\u001b[0m   flipside \u001b[38;5;241m=\u001b[39m \u001b[43mFlipside\u001b[49m(flipside_api_key, \u001b[38;5;124m\"\u001b[39m\u001b[38;5;124mhttps://api-v2.flipsidecrypto.xyz\u001b[39m\u001b[38;5;124m\"\u001b[39m)\n\u001b[0;32m      6\u001b[0m   query_result_set \u001b[38;5;241m=\u001b[39m flipside\u001b[38;5;241m.\u001b[39mquery(query)\n\u001b[0;32m      7\u001b[0m   \u001b[38;5;66;03m# what page are we starting on?\u001b[39;00m\n",
      "\u001b[1;31mNameError\u001b[0m: name 'Flipside' is not defined"
     ]
    }
   ],
   "source": [
    "flipside_api_key = os.getenv(\"FLIPSIDE_API_KEY\")\n",
    "\n",
    "prices_df = flipside_api_results(prices, flipside_api_key)"
   ]
  },
  {
   "cell_type": "code",
   "execution_count": null,
   "metadata": {},
   "outputs": [],
   "source": []
  }
 ],
 "metadata": {
  "kernelspec": {
   "display_name": "steth_optimizer",
   "language": "python",
   "name": "steth_optimizer"
  },
  "language_info": {
   "codemirror_mode": {
    "name": "ipython",
    "version": 3
   },
   "file_extension": ".py",
   "mimetype": "text/x-python",
   "name": "python",
   "nbconvert_exporter": "python",
   "pygments_lexer": "ipython3",
   "version": "3.11.9"
  }
 },
 "nbformat": 4,
 "nbformat_minor": 2
}
