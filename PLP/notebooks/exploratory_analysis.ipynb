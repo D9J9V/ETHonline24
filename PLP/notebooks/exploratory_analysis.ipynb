{
 "cells": [
  {
   "cell_type": "markdown",
   "metadata": {},
   "source": [
    "# Exploratory Data Analysis for Private Loans Portfolio\n",
    "\n",
    "This notebook explores the private loans dataset to gain insights and prepare for modeling."
   ]
  },
  {
   "cell_type": "code",
   "execution_count": null,
   "metadata": {},
   "outputs": [],
   "source": [
    "import pandas as pd\n",
    "import numpy as np\n",
    "import matplotlib.pyplot as plt\n",
    "import seaborn as sns\n",
    "\n",
    "%matplotlib inline\n",
    "plt.style.use('seaborn')\n",
    "\n",
    "# Import custom modules\n",
    "import sys\n",
    "from pathlib import Path\n"
    "utils_path = Path('..') / 'utils'\n"
    "sys.path.append(str(utils_path))\n",
    "from preprocess import load_data, preprocess_data"
   ]
  },
  {
   "cell_type": "markdown",
   "metadata": {},
   "source": [
    "## 1. Data Loading and Initial Inspection"
   ]
  },
  {
   "cell_type": "code",
   "execution_count": null,
   "metadata": {},
   "outputs": [],
   "source": [
    "# Load the data\n",
    "df = preprocess.load_data('../data/rwa_private_loans.csv')\n",
    "\n",
    "# Display basic information\n",
    "print(df.info())\n",
    "print(\"\\nSample data:\")\n",
    "display(df.head())"
   ]
  },
  {
   "cell_type": "markdown",
   "metadata": {},
   "source": [
    "## 2. Data Preprocessing"
   ]
  },
  {
   "cell_type": "code",
   "execution_count": null,
   "metadata": {},
   "outputs": [],
   "source": [
    "# Preprocess the data\n",
    "df = preprocess.preprocess_data(df)\n",
    "\n",
    "print(\"Preprocessed data sample:\")\n",
    "display(df.head())\n",
    "\n",
    "# Check for missing values\n",
    "print(\"\\nMissing values:\")\n",
    "print(df.isnull().sum())"
   ]
  },
  {
   "cell_type": "markdown",
   "metadata": {},
   "source": [
    "## 3. Exploratory Data Analysis"
   ]
  },
  {
   "cell_type": "markdown",
   "metadata": {},
   "source": [
    "### 3.1 Distribution of Loan Durations"
   ]
  },
  {
   "cell_type": "code",
   "execution_count": null,
   "metadata": {},
   "outputs": [],
   "source": [
    "plt.figure(figsize=(10, 6))\n",
    "sns.histplot(df['loan_duration_days'], kde=True)\n",
    "plt.title('Distribution of Loan Durations')\n",
    "plt.xlabel('Loan Duration (days)')\n",
    "plt.ylabel('Frequency')\n",
    "plt.show()"
   ]
  },
  {
   "cell_type": "markdown",
   "metadata": {},
   "source": [
    "### 3.2 Interest Rate Analysis"
   ]
  },
  {
   "cell_type": "code",
   "execution_count": null,
   "metadata": {},
   "outputs": [],
   "source": [
    "plt.figure(figsize=(10, 6))\n",
    "sns.boxplot(x='protocol_name', y='base_interest_rate', data=df)\n",
    "plt.title('Base Interest Rates by Protocol')\n",
    "plt.xlabel('Protocol')\n",
    "plt.ylabel('Base Interest Rate (%)')\n",
    "plt.xticks(rotation=45)\n",
    "plt.show()"
   ]
  },
  {
   "cell_type": "markdown",
   "metadata": {},
   "source": [
    "### 3.3 Correlation Analysis"
   ]
  },
  {
   "cell_type": "code",
   "execution_count": null,
   "metadata": {},
   "outputs": [],
   "source": [
    "numeric_cols = df.select_dtypes(include=[np.number]).columns\n",
    "corr_matrix = df[numeric_cols].corr()\n",
    "\n",
    "plt.figure(figsize=(12, 10))\n",
    "sns.heatmap(corr_matrix, annot=True, cmap='coolwarm', linewidths=0.5)\n",
    "plt.title('Correlation Matrix of Numeric Features')\n",
    "plt.show()"
   ]
  },
  {
   "cell_type": "markdown",
   "metadata": {},
   "source": [
    "### 3.4 Loan Performance Analysis"
   ]
  },
  {
   "cell_type": "code",
   "execution_count": null,
   "metadata": {},
   "outputs": [],
   "source": [
    "plt.figure(figsize=(10, 6))\n",
    "sns.scatterplot(x='loan_duration_days', y='normalized_cumulative_return', hue='protocol_name', data=df)\n",
    "plt.title('Loan Performance: Duration vs. Normalized Cumulative Return')\n",
    "plt.xlabel('Loan Duration (days)')\n",
    "plt.ylabel('Normalized Cumulative Return')\n",
    "plt.legend(title='Protocol', bbox_to_anchor=(1.05, 1), loc='upper left')\n",
    "plt.tight_layout()\n",
    "plt.show()"
   ]
  },
  {
   "cell_type": "markdown",
   "metadata": {},
   "source": [
    "## 4. Risk Analysis"
   ]
  },
  {
   "cell_type": "code",
   "execution_count": null,
   "metadata": {},
   "outputs": [],
   "source": [
    "plt.figure(figsize=(10, 6))\n",
    "sns.scatterplot(x='mu', y='sigma', hue='protocol_name', size='funded_assets_dollar', data=df)\n",
    "plt.title('Risk-Return Profile of Loans')\n",
    "plt.xlabel('Expected Return (mu)')\n",
    "plt.ylabel('Volatility (sigma)')\n",
    "plt.legend(title='Protocol', bbox_to_anchor=(1.05, 1), loc='upper left')\n",
    "plt.tight_layout()\n",
    "plt.show()"
   ]
  },
  {
   "cell_type": "markdown",
   "metadata": {},
   "source": [
    "## 5. Conclusions and Next Steps\n",
    "\n",
    "Based on our exploratory analysis, we can draw the following conclusions:\n",
    "\n",
    "1. [Insert key findings about loan durations]\n",
    "2. [Insert key findings about interest rates across protocols]\n",
    "3. [Insert key findings from correlation analysis]\n",
    "4. [Insert key findings about loan performance]\n",
    "5. [Insert key findings about risk-return profiles]\n",
    "\n",
    "Next steps for modeling:\n",
    "1. Feature engineering: [Describe potential new features]\n",
    "2. Outlier treatment: [Describe any necessary outlier handling]\n",
    "3. Model selection: [Describe potential models to try]\n",
    "4. Hyperparameter tuning: [Describe approach for optimizing model parameters]\n",
    "5. Validation strategy: [Describe how you'll validate the model's performance]"
   ]
  }
 ],
 "metadata": {
  "kernelspec": {
   "display_name": "Python 3",
   "language": "python",
   "name": "python3"
  },
  "language_info": {
   "codemirror_mode": {
    "name": "ipython",
    "version": 3
   },
   "file_extension": ".py",
   "mimetype": "text/x-python",
   "name": "python",
   "nbconvert_exporter": "python",
   "pygments_lexer": "ipython3",
   "version": "3.8.5"
  }
 },
 "nbformat": 4,
 "nbformat_minor": 4
}
